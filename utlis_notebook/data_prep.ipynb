{
 "cells": [
  {
   "cell_type": "code",
   "execution_count": 1,
   "metadata": {},
   "outputs": [],
   "source": [
    "import pandas as pd \n",
    "import numpy as np \n",
    "import os\n"
   ]
  },
  {
   "cell_type": "code",
   "execution_count": 4,
   "metadata": {},
   "outputs": [],
   "source": [
    "# data = pd.read_csv('../data/preprocessed_updated1_combined_terraclimate_original.csv')\n",
    "# country = []\n",
    "# for index, item in data.iterrows():\n",
    "#     cntry = (item['id'].split('_')[2])\n",
    "#     if cntry=='aus':\n",
    "#         country.append('Australia')\n",
    "#     elif cntry=='sa':\n",
    "#         country.append('South_Africa')\n",
    "#     else:\n",
    "#         country.append('Costa_Rica')\n",
    "\n",
    "\n",
    "# country_df = pd.DataFrame(country,columns=['country'])\n",
    "\n",
    "# # data['country'] = country_df['country']\n",
    "# column_index = list(data.columns)\n",
    "# column_index.pop(len(column_index)-1)\n",
    "# column_index.pop(0)\n",
    "# column_index.insert(2, 'country')\n",
    "# data_updated = data[column_index]\n",
    "# data_updated.head()\n",
    "# data_updated.to_csv('./data/frog_data.csv', index=False)\n"
   ]
  },
  {
   "cell_type": "code",
   "execution_count": 5,
   "metadata": {},
   "outputs": [],
   "source": [
    "data_all = pd.read_csv('../data/frog_data.csv')\n",
    "data_aus = data_all[data_all['country']=='Costa_Rica']\n",
    "data_aus.to_csv('../cos_data/frog_data_cos.csv', index=False)"
   ]
  },
  {
   "cell_type": "markdown",
   "metadata": {},
   "source": [
    "### train test split"
   ]
  },
  {
   "cell_type": "code",
   "execution_count": 59,
   "metadata": {},
   "outputs": [
    {
     "name": "stdout",
     "output_type": "stream",
     "text": [
      "1942\n"
     ]
    }
   ],
   "source": [
    "import pandas as pd\n",
    "import numpy as np\n",
    "\n",
    "# Load the dataset\n",
    "data = pd.read_csv('../cos_data/cos_datpoints_updated.csv')\n",
    "\n",
    "# data_sorted = data.sort_values(by='lable')\n",
    "label_unqiue = data['lable'].unique()\n",
    "\n",
    "print(len(data))"
   ]
  },
  {
   "cell_type": "markdown",
   "metadata": {},
   "source": [
    "### Extract 20% test data for each band"
   ]
  },
  {
   "cell_type": "code",
   "execution_count": 38,
   "metadata": {},
   "outputs": [
    {
     "name": "stdout",
     "output_type": "stream",
     "text": [
      "Step 0, total count 1519\n",
      "Step 10, total count 363\n",
      "Step 20, total count 27\n",
      "Step 30, total count 9\n",
      "Step 40, total count 8\n",
      "Step 50, total count 5\n",
      "Step 60, total count 2\n",
      "Step 70, total count 4\n",
      "Step 80, total count 0\n",
      "Step 90, total count 0\n",
      "Step 100, total count 0\n",
      "Step 110, total count 2\n",
      "Step 120, total count 1\n",
      "Step 130, total count 0\n",
      "Step 140, total count 1\n"
     ]
    }
   ],
   "source": [
    "lable_step = 10\n",
    "for i in range(0,150, 10):\n",
    "    for index, item in data.iterrows():\n",
    "        if item['lable']<=i and item['lable']>i-10:\n",
    "            lable_counter+=1\n",
    "    print(f\"Step {i}, total count {lable_counter}\")\n",
    "    lable_counter = 0\n"
   ]
  },
  {
   "cell_type": "code",
   "execution_count": 140,
   "metadata": {},
   "outputs": [],
   "source": [
    "data_nonzero = data.loc[data['lable']!=0].copy()\n",
    "len(data_nonzero)\n",
    "\n",
    "data_nonzero['band'] = pd.cut(data_nonzero['lable'],bins=range(0,len(data_nonzero),10), right=False)\n",
    "grouped = data_nonzero.groupby('band')"
   ]
  },
  {
   "cell_type": "code",
   "execution_count": 127,
   "metadata": {},
   "outputs": [],
   "source": [
    "import math\n",
    "\n",
    "per_10_list = []\n",
    "x=0\n",
    "for name, group in grouped:\n",
    "    # print(name,'....', len(group))\n",
    "    if len(group) >=2:\n",
    "        sample_size = math.ceil(len(group)*0.2)\n",
    "    else:\n",
    "        sample_size = 0\n",
    "    \n",
    "    # print(sample_size)\n",
    "\n",
    "    sample = group.sample(n=sample_size)\n",
    "    # print(len(sample))\n",
    "    for index, row in sample.iterrows():\n",
    "        # print(row)\n",
    "        per_10_list.append({'LAT': row['LAT'],'LON': row['LON'],'lable': row['lable']})"
   ]
  },
  {
   "cell_type": "markdown",
   "metadata": {},
   "source": [
    "### Save Test samples"
   ]
  },
  {
   "cell_type": "code",
   "execution_count": 152,
   "metadata": {},
   "outputs": [],
   "source": [
    "per_10_df.to_csv('../cos_data/cos_testdata.csv', index=False)"
   ]
  },
  {
   "cell_type": "markdown",
   "metadata": {},
   "source": [
    "### Save Train samples"
   ]
  },
  {
   "cell_type": "code",
   "execution_count": 153,
   "metadata": {},
   "outputs": [],
   "source": [
    "merged_df = pd.merge(data, per_10_df, how='outer', indicator=True)\n",
    "train_data = merged_df[merged_df['_merge']=='left_only'].copy()\n",
    "train_data = train_data.drop(columns=['_merge'])\n",
    "train_data.to_csv('../cos_data/cos_traindata.csv', index=False)\n"
   ]
  },
  {
   "cell_type": "code",
   "execution_count": null,
   "metadata": {},
   "outputs": [],
   "source": []
  }
 ],
 "metadata": {
  "kernelspec": {
   "display_name": "base",
   "language": "python",
   "name": "python3"
  },
  "language_info": {
   "codemirror_mode": {
    "name": "ipython",
    "version": 3
   },
   "file_extension": ".py",
   "mimetype": "text/x-python",
   "name": "python",
   "nbconvert_exporter": "python",
   "pygments_lexer": "ipython3",
   "version": "3.10.4"
  }
 },
 "nbformat": 4,
 "nbformat_minor": 2
}
