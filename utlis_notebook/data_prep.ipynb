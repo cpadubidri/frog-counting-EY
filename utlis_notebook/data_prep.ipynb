{
 "cells": [
  {
   "cell_type": "code",
   "execution_count": 1,
   "metadata": {},
   "outputs": [],
   "source": [
    "import pandas as pd \n",
    "import numpy as np \n",
    "import os\n"
   ]
  },
  {
   "cell_type": "code",
   "execution_count": 4,
   "metadata": {},
   "outputs": [],
   "source": [
    "# data = pd.read_csv('../data/preprocessed_updated1_combined_terraclimate_original.csv')\n",
    "# country = []\n",
    "# for index, item in data.iterrows():\n",
    "#     cntry = (item['id'].split('_')[2])\n",
    "#     if cntry=='aus':\n",
    "#         country.append('Australia')\n",
    "#     elif cntry=='sa':\n",
    "#         country.append('South_Africa')\n",
    "#     else:\n",
    "#         country.append('Costa_Rica')\n",
    "\n",
    "\n",
    "# country_df = pd.DataFrame(country,columns=['country'])\n",
    "\n",
    "# # data['country'] = country_df['country']\n",
    "# column_index = list(data.columns)\n",
    "# column_index.pop(len(column_index)-1)\n",
    "# column_index.pop(0)\n",
    "# column_index.insert(2, 'country')\n",
    "# data_updated = data[column_index]\n",
    "# data_updated.head()\n",
    "# data_updated.to_csv('./data/frog_data.csv', index=False)\n"
   ]
  },
  {
   "cell_type": "code",
   "execution_count": null,
   "metadata": {},
   "outputs": [],
   "source": [
    "data_all = pd.read_csv('../data/frog_data.csv')\n",
    "data_aus = data_all[data_all['country']=='Costa_Rica']\n",
    "data_aus.to_csv('../cos_data/frog_data_cos.csv', index=False)"
   ]
  },
  {
   "cell_type": "markdown",
   "metadata": {},
   "source": [
    "### train test split"
   ]
  },
  {
   "cell_type": "code",
   "execution_count": 3,
   "metadata": {},
   "outputs": [],
   "source": [
    "import pandas as pd\n",
    "import numpy as np\n",
    "\n",
    "# Load the dataset\n",
    "data = pd.read_csv('./data/frog_data_aus.csv')\n",
    "\n",
    "# Shuffle the dataset randomly\n",
    "data_shuffled = data.sample(frac=1, random_state=42).reset_index(drop=True)\n",
    "\n",
    "# Calculate the number of rows for the 80% of the dataset\n",
    "train_size = int(len(data_shuffled) * 0.8)\n",
    "\n",
    "# Split the dataset\n",
    "train_data = data_shuffled[:train_size]\n",
    "test_data = data_shuffled[train_size:]\n",
    "\n",
    "# Save the training and test sets to separate files\n",
    "train_data.to_csv('./data/frog_data_aus_train_80.csv', index=False)\n",
    "test_data.to_csv('./data/frog_data_aus_test_20.csv', index=False)\n"
   ]
  },
  {
   "cell_type": "code",
   "execution_count": 11,
   "metadata": {},
   "outputs": [],
   "source": []
  },
  {
   "cell_type": "code",
   "execution_count": null,
   "metadata": {},
   "outputs": [],
   "source": []
  }
 ],
 "metadata": {
  "kernelspec": {
   "display_name": "base",
   "language": "python",
   "name": "python3"
  },
  "language_info": {
   "codemirror_mode": {
    "name": "ipython",
    "version": 3
   },
   "file_extension": ".py",
   "mimetype": "text/x-python",
   "name": "python",
   "nbconvert_exporter": "python",
   "pygments_lexer": "ipython3",
   "version": "3.10.4"
  }
 },
 "nbformat": 4,
 "nbformat_minor": 2
}
